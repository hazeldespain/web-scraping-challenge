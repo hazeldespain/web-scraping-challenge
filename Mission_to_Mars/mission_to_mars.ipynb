{
 "cells": [
  {
   "cell_type": "code",
   "execution_count": null,
   "metadata": {},
   "outputs": [],
   "source": [
    "#import dependencies \n",
    "from bs4 import BeautifulSoup as bs\n",
    "import requests\n",
    "from splinter import Browser\n",
    "import pandas as pd"
   ]
  },
  {
   "cell_type": "code",
   "execution_count": null,
   "metadata": {},
   "outputs": [],
   "source": [
    "# URL of page to be scraped\n",
    "url=\"https://mars.nasa.gov/news/?page=0&per_page=40&order=publish_date+desc%2Ccreated_at+desc&search=&category=19%2C165%2C184%2C204&blank_scope=Latest\""
   ]
  },
  {
   "cell_type": "code",
   "execution_count": null,
   "metadata": {},
   "outputs": [],
   "source": [
    "# Retrieve page with the requests module\n",
    "response = requests.get(url)\n",
    "\n",
    "# Create a Beautiful Soup object\n",
    "soup = bs(response.text, 'lxml')"
   ]
  },
  {
   "cell_type": "raw",
   "metadata": {},
   "source": [
    "# Step 1: Scraping"
   ]
  },
  {
   "cell_type": "code",
   "execution_count": null,
   "metadata": {},
   "outputs": [],
   "source": [
    "#NASA Mars News Site:\n",
    "#News Title \n",
    "news_title = soup.title.text\n",
    "#and Paragraph Text \n",
    "news_p=soup.body.p.text"
   ]
  },
  {
   "cell_type": "code",
   "execution_count": null,
   "metadata": {},
   "outputs": [],
   "source": [
    "#Splinter - chromedriver\n",
    "executable_path = {'executable_path': './chromedriver'}\n",
    "browser = Browser('chrome', **executable_path, headless=False)"
   ]
  },
  {
   "cell_type": "code",
   "execution_count": null,
   "metadata": {
    "scrolled": true
   },
   "outputs": [],
   "source": [
    "#JPL Mars Space Images:\n",
    "#Image url for the current Featured Mars Image \n",
    "url = 'https://www.jpl.nasa.gov/spaceimages/?search=&category=Mars'\n",
    "browser.visit(url)\n",
    "# assign the url string to a variable called featured_image_url\n",
    "featured_image_url = \"https://www.jpl.nasa.gov/spaceimages/images/wallpaper/PIA17838-1920x1200.jpg\""
   ]
  },
  {
   "cell_type": "code",
   "execution_count": null,
   "metadata": {},
   "outputs": [],
   "source": [
    "#Mars Weather:\n",
    "# latest Mars weather tweet from the page\n",
    "# Retrieve page with the requests module\n",
    "mars_twitter_url = \"https://twitter.com/marswxreport?lang=en\"\n",
    "mars_response = requests.get(mars_twitter_url)\n",
    "\n",
    "# Create a Beautiful Soup object\n",
    "soup = bs(mars_response.text, 'lxml')\n",
    "\n",
    "browser.visit(mars_twitter_url)\n",
    "\n",
    "mars_tweet = soup.find(\"p\", class_=\"tweet-text\")\n",
    "\n",
    "# browser.is_text_present('tweet-text') # True\n",
    "# browser.is_text_present('tweet-text', wait_time=10) # True, using wait_time\n",
    "#see:  https://splinter.readthedocs.io/en/latest/matchers.html"
   ]
  },
  {
   "cell_type": "code",
   "execution_count": 8,
   "metadata": {},
   "outputs": [],
   "source": [
    "mars_weather = mars_tweet.text.replace('\\n', '')\n",
    "print(mars_weather)"
   ]
  },
  {
   "cell_type": "code",
   "execution_count": 9,
   "metadata": {},
   "outputs": [],
   "source": [
    "# Mars Weather\n",
    "mars_weather_url=\"https://space-facts.com/mars/\"\n",
    "tables = pd.read_html(mars_weather_url)\n",
    "# table containing facts about the planet including Diameter, Mass, etc."
   ]
  },
  {
   "cell_type": "code",
   "execution_count": 10,
   "metadata": {},
   "outputs": [
    {
     "data": {
      "text/plain": [
       "<bound method NDFrame.head of   Mars - Earth Comparison             Mars            Earth\n",
       "0               Diameter:         6,779 km        12,742 km\n",
       "1                   Mass:  6.39 × 10^23 kg  5.97 × 10^24 kg\n",
       "2                  Moons:                2                1\n",
       "3      Distance from Sun:   227,943,824 km   149,598,262 km\n",
       "4         Length of Year:   687 Earth days      365.24 days\n",
       "5            Temperature:    -153 to 20 °C      -88 to 58°C>"
      ]
     },
     "execution_count": 10,
     "metadata": {},
     "output_type": "execute_result"
    }
   ],
   "source": [
    "df = tables[0]\n",
    "df.columns = [\"Mars - Earth Comparison\", \"Mars\", \"Earth\"]\n",
    "df.head"
   ]
  },
  {
   "cell_type": "code",
   "execution_count": 11,
   "metadata": {},
   "outputs": [
    {
     "data": {
      "text/plain": [
       "'<table border=\"1\" class=\"dataframe\">  <thead>    <tr style=\"text-align: right;\">      <th></th>      <th>Mars - Earth Comparison</th>      <th>Mars</th>      <th>Earth</th>    </tr>  </thead>  <tbody>    <tr>      <th>0</th>      <td>Diameter:</td>      <td>6,779 km</td>      <td>12,742 km</td>    </tr>    <tr>      <th>1</th>      <td>Mass:</td>      <td>6.39 × 10^23 kg</td>      <td>5.97 × 10^24 kg</td>    </tr>    <tr>      <th>2</th>      <td>Moons:</td>      <td>2</td>      <td>1</td>    </tr>    <tr>      <th>3</th>      <td>Distance from Sun:</td>      <td>227,943,824 km</td>      <td>149,598,262 km</td>    </tr>    <tr>      <th>4</th>      <td>Length of Year:</td>      <td>687 Earth days</td>      <td>365.24 days</td>    </tr>    <tr>      <th>5</th>      <td>Temperature:</td>      <td>-153 to 20 °C</td>      <td>-88 to 58°C</td>    </tr>  </tbody></table>'"
      ]
     },
     "execution_count": 11,
     "metadata": {},
     "output_type": "execute_result"
    }
   ],
   "source": [
    "html_table = df.to_html()\n",
    "html_table = html_table.replace('\\n', '')\n",
    "html_table"
   ]
  },
  {
   "cell_type": "code",
   "execution_count": 46,
   "metadata": {},
   "outputs": [
    {
     "name": "stdout",
     "output_type": "stream",
     "text": [
      "[{'title': 'Cerberus Hemisphere Enhanced', 'img_url': 'https://astrogeology.usgs.gov/cache/images/cfa62af2557222a02478f1fcd781d445_cerberus_enhanced.tif_full.jpg'}, {'title': 'Schiaparelli Hemisphere Enhanced', 'img_url': 'https://astrogeology.usgs.gov/cache/images/3cdd1cbf5e0813bba925c9030d13b62e_schiaparelli_enhanced.tif_full.jpg'}, {'title': 'Syrtis Major Hemisphere Enhanced', 'img_url': 'https://astrogeology.usgs.gov/cache/images/ae209b4e408bb6c3e67b6af38168cf28_syrtis_major_enhanced.tif_full.jpg'}, {'title': 'Valles Marineris Hemisphere Enhanced', 'img_url': 'https://astrogeology.usgs.gov/cache/images/7cf2da4bf549ed01c17f206327be4db7_valles_marineris_enhanced.tif_full.jpg'}]\n"
     ]
    }
   ],
   "source": [
    "# Mars Hemispheres\n",
    "mars_hemispheres_url =\"https://astrogeology.usgs.gov/search/results?q=hemisphere+enhanced&k1=target&v1=Mars\"\n",
    "h_response = requests.get(mars_hemispheres_url)\n",
    "\n",
    "# Create a Beautiful Soup object\n",
    "soup = bs(h_response.text, 'lxml')\n",
    "\n",
    "# browser.visit(mars_hemispheres_url)\n",
    "\n",
    "#first image\n",
    "c_url = \"https://astrogeology.usgs.gov/search/map/Mars/Viking/cerberus_enhanced\"\n",
    "cereberus_response = requests.get(c_url)\n",
    "soup_c=bs(cereberus_response.text, 'lxml')\n",
    "cereberus_img = soup_c.find(\"img\", class_=\"wide-image\")[\"src\"]\n",
    "cereberus_title = soup_c.find(\"h2\", class_=\"title\").text\n",
    "\n",
    "#second image\n",
    "sh_url = \"https://astrogeology.usgs.gov/search/map/Mars/Viking/schiaparelli_enhanced\"\n",
    "sh_response= requests.get(sh_url)\n",
    "soup_sh=bs(sh_response.text,'lxml')\n",
    "sh_img = soup_sh.find(\"img\",class_=\"wide-image\")[\"src\"]\n",
    "sh_title = soup_sh.find(\"h2\", class_=\"title\").text\n",
    "\n",
    "#third image\n",
    "sy_url = \"https://astrogeology.usgs.gov/search/map/Mars/Viking/syrtis_major_enhanced\"\n",
    "sy_response=requests.get(sy_url)\n",
    "soup_sy = bs(sy_response.text,'lxml')\n",
    "sy_img=soup_sy.find(\"img\", class_=\"wide-image\")[\"src\"]\n",
    "sy_title = soup_sy.find(\"h2\", class_=\"title\").text\n",
    "\n",
    "#fourth image\n",
    "v_url=\"https://astrogeology.usgs.gov/search/map/Mars/Viking/valles_marineris_enhanced\"\n",
    "v_response=requests.get(v_url)\n",
    "soup_v=bs(v_response.text, 'lxml')\n",
    "v_img=soup_v.find(\"img\",class_=\"wide-image\")[\"src\"]\n",
    "v_title=soup_v.find(\"h2\", class_=\"title\").text\n",
    "\n",
    "hemisphere_image_urls = [\n",
    "    {\"title\": cereberus_title, \"img_url\": \"https://astrogeology.usgs.gov\"+cereberus_img},\n",
    "    {\"title\": sh_title, \"img_url\": \"https://astrogeology.usgs.gov\"+sh_img},\n",
    "    {\"title\": sy_title, \"img_url\": \"https://astrogeology.usgs.gov\"+sy_img},\n",
    "    {\"title\": v_title, \"img_url\": \"https://astrogeology.usgs.gov\"+v_img},\n",
    "]\n",
    "print(hemisphere_image_urls)"
   ]
  },
  {
   "cell_type": "code",
   "execution_count": null,
   "metadata": {},
   "outputs": [],
   "source": [
    "if __name__ == \"__main__\":\n",
    "    mars = scrape()\n",
    "    print(mars)"
   ]
  }
 ],
 "metadata": {
  "kernelspec": {
   "display_name": "Conda [PythonData]",
   "language": "python",
   "name": "pythondata"
  },
  "language_info": {
   "codemirror_mode": {
    "name": "ipython",
    "version": 3
   },
   "file_extension": ".py",
   "mimetype": "text/x-python",
   "name": "python",
   "nbconvert_exporter": "python",
   "pygments_lexer": "ipython3",
   "version": "3.7.3"
  }
 },
 "nbformat": 4,
 "nbformat_minor": 2
}
